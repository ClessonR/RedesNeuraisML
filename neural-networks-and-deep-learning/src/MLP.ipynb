{
 "cells": [
  {
   "cell_type": "code",
   "execution_count": 1,
   "metadata": {},
   "outputs": [],
   "source": [
    "import sys"
   ]
  },
  {
   "cell_type": "code",
   "execution_count": 2,
   "metadata": {},
   "outputs": [],
   "source": [
    "\n",
    "sys.path.insert(1,'src/')"
   ]
  },
  {
   "cell_type": "code",
   "execution_count": 3,
   "metadata": {},
   "outputs": [],
   "source": [
    "from network import *\n",
    "import mnist_loader"
   ]
  },
  {
   "cell_type": "code",
   "execution_count": 4,
   "metadata": {},
   "outputs": [],
   "source": [
    "training_data, validation_data, test_data = mnist_loader.load_data_wrapper()"
   ]
  },
  {
   "cell_type": "code",
   "execution_count": 5,
   "metadata": {},
   "outputs": [],
   "source": [
    "net = Network([784,30,10])"
   ]
  },
  {
   "cell_type": "code",
   "execution_count": 6,
   "metadata": {},
   "outputs": [],
   "source": [
    "pepino = [10]"
   ]
  },
  {
   "cell_type": "code",
   "execution_count": 7,
   "metadata": {},
   "outputs": [
    {
     "name": "stderr",
     "output_type": "stream",
     "text": [
      "c:\\Users\\bebet\\Insync\\drsonypk@gmail.com\\Google Drive\\Projects\\neural_networks\\neural-networks-and-deep-learning\\src\\network.py:54: VisibleDeprecationWarning: Creating an ndarray from ragged nested sequences (which is a list-or-tuple of lists-or-tuples-or ndarrays with different lengths or shapes) is deprecated. If you meant to do this, you must specify 'dtype=object' when creating the ndarray.\n",
      "  training_data = np.array(training_data)\n"
     ]
    },
    {
     "name": "stdout",
     "output_type": "stream",
     "text": [
      "(2, 50000)\n",
      "(784,)\n",
      "(784,)\n"
     ]
    },
    {
     "ename": "ValueError",
     "evalue": "shapes (30,784) and (50000,) not aligned: 784 (dim 1) != 50000 (dim 0)",
     "output_type": "error",
     "traceback": [
      "\u001b[1;31m---------------------------------------------------------------------------\u001b[0m",
      "\u001b[1;31mValueError\u001b[0m                                Traceback (most recent call last)",
      "Cell \u001b[1;32mIn [7], line 1\u001b[0m\n\u001b[1;32m----> 1\u001b[0m net\u001b[39m.\u001b[39;49mSGD(training_data, \u001b[39m30\u001b[39;49m, \u001b[39m10\u001b[39;49m, \u001b[39m3.0\u001b[39;49m, test_data\u001b[39m=\u001b[39;49mtest_data)\n",
      "File \u001b[1;32mc:\\Users\\bebet\\Insync\\drsonypk@gmail.com\\Google Drive\\Projects\\neural_networks\\neural-networks-and-deep-learning\\src\\network.py:65\u001b[0m, in \u001b[0;36mNetwork.SGD\u001b[1;34m(self, training_data, epochs, mini_batch_size, eta, test_data)\u001b[0m\n\u001b[0;32m     61\u001b[0m mini_batches \u001b[39m=\u001b[39m [\n\u001b[0;32m     62\u001b[0m     training_data[k:k\u001b[39m+\u001b[39mmini_batch_size]\n\u001b[0;32m     63\u001b[0m     \u001b[39mfor\u001b[39;00m k \u001b[39min\u001b[39;00m \u001b[39mrange\u001b[39m(\u001b[39m0\u001b[39m, n, mini_batch_size)]\n\u001b[0;32m     64\u001b[0m \u001b[39mfor\u001b[39;00m mini_batch \u001b[39min\u001b[39;00m mini_batches:\n\u001b[1;32m---> 65\u001b[0m     \u001b[39mself\u001b[39;49m\u001b[39m.\u001b[39;49mupdate_mini_batch(mini_batch, eta)\n\u001b[0;32m     66\u001b[0m \u001b[39mif\u001b[39;00m test_data:\n\u001b[0;32m     67\u001b[0m     \u001b[39mprint\u001b[39m (\u001b[39m\"\u001b[39m\u001b[39mEpoch \u001b[39m\u001b[39m{0}\u001b[39;00m\u001b[39m: \u001b[39m\u001b[39m{1}\u001b[39;00m\u001b[39m / \u001b[39m\u001b[39m{2}\u001b[39;00m\u001b[39m\"\u001b[39m)\u001b[39m.\u001b[39mformat(\n\u001b[0;32m     68\u001b[0m         j, \u001b[39mself\u001b[39m\u001b[39m.\u001b[39mevaluate(test_data), n_test)\n",
      "File \u001b[1;32mc:\\Users\\bebet\\Insync\\drsonypk@gmail.com\\Google Drive\\Projects\\neural_networks\\neural-networks-and-deep-learning\\src\\network.py:85\u001b[0m, in \u001b[0;36mNetwork.update_mini_batch\u001b[1;34m(self, mini_batch, eta)\u001b[0m\n\u001b[0;32m     83\u001b[0m \u001b[39mprint\u001b[39m(np\u001b[39m.\u001b[39marray(x[\u001b[39m0\u001b[39m])\u001b[39m.\u001b[39msqueeze()\u001b[39m.\u001b[39mshape)\n\u001b[0;32m     84\u001b[0m \u001b[39mprint\u001b[39m(np\u001b[39m.\u001b[39marray(y[\u001b[39m0\u001b[39m])\u001b[39m.\u001b[39msqueeze()\u001b[39m.\u001b[39mshape)\n\u001b[1;32m---> 85\u001b[0m delta_nabla_b, delta_nabla_w \u001b[39m=\u001b[39m \u001b[39mself\u001b[39;49m\u001b[39m.\u001b[39;49mbackprop(x, y)\n\u001b[0;32m     86\u001b[0m nabla_b \u001b[39m=\u001b[39m [nb\u001b[39m+\u001b[39mdnb \u001b[39mfor\u001b[39;00m nb, dnb \u001b[39min\u001b[39;00m \u001b[39mzip\u001b[39m(nabla_b, delta_nabla_b)]\n\u001b[0;32m     87\u001b[0m nabla_w \u001b[39m=\u001b[39m [nw\u001b[39m+\u001b[39mdnw \u001b[39mfor\u001b[39;00m nw, dnw \u001b[39min\u001b[39;00m \u001b[39mzip\u001b[39m(nabla_w, delta_nabla_w)]\n",
      "File \u001b[1;32mc:\\Users\\bebet\\Insync\\drsonypk@gmail.com\\Google Drive\\Projects\\neural_networks\\neural-networks-and-deep-learning\\src\\network.py:106\u001b[0m, in \u001b[0;36mNetwork.backprop\u001b[1;34m(self, x, y)\u001b[0m\n\u001b[0;32m    104\u001b[0m zs \u001b[39m=\u001b[39m [] \u001b[39m# list to store all the z vectors, layer by layer\u001b[39;00m\n\u001b[0;32m    105\u001b[0m \u001b[39mfor\u001b[39;00m b, w \u001b[39min\u001b[39;00m \u001b[39mzip\u001b[39m(\u001b[39mself\u001b[39m\u001b[39m.\u001b[39mbiases, \u001b[39mself\u001b[39m\u001b[39m.\u001b[39mweights):\n\u001b[1;32m--> 106\u001b[0m     z \u001b[39m=\u001b[39m np\u001b[39m.\u001b[39;49mdot(w, activation)\u001b[39m+\u001b[39mb\n\u001b[0;32m    107\u001b[0m     zs\u001b[39m.\u001b[39mappend(z)\n\u001b[0;32m    108\u001b[0m     activation \u001b[39m=\u001b[39m sigmoid(z)\n",
      "File \u001b[1;32m<__array_function__ internals>:180\u001b[0m, in \u001b[0;36mdot\u001b[1;34m(*args, **kwargs)\u001b[0m\n",
      "\u001b[1;31mValueError\u001b[0m: shapes (30,784) and (50000,) not aligned: 784 (dim 1) != 50000 (dim 0)"
     ]
    }
   ],
   "source": [
    "net.SGD(training_data, 30, 10, 3.0, test_data=test_data)"
   ]
  },
  {
   "cell_type": "code",
   "execution_count": null,
   "metadata": {},
   "outputs": [],
   "source": []
  }
 ],
 "metadata": {
  "kernelspec": {
   "display_name": "Python 3",
   "language": "python",
   "name": "python3"
  },
  "language_info": {
   "codemirror_mode": {
    "name": "ipython",
    "version": 3
   },
   "file_extension": ".py",
   "mimetype": "text/x-python",
   "name": "python",
   "nbconvert_exporter": "python",
   "pygments_lexer": "ipython3",
   "version": "3.10.7"
  },
  "orig_nbformat": 4,
  "vscode": {
   "interpreter": {
    "hash": "f9bea8b6b6c7e58f4a2a79df86e3f891fd8805285067626ee34d253b1117ba1c"
   }
  }
 },
 "nbformat": 4,
 "nbformat_minor": 2
}
