{
 "cells": [
  {
   "cell_type": "code",
   "execution_count": 2,
   "metadata": {},
   "outputs": [],
   "source": [
    "from sklearn.neural_network import MLPClassifier"
   ]
  },
  {
   "cell_type": "code",
   "execution_count": 3,
   "metadata": {},
   "outputs": [],
   "source": [
    "from mnist_loader import load_data"
   ]
  },
  {
   "cell_type": "code",
   "execution_count": 4,
   "metadata": {},
   "outputs": [],
   "source": [
    "training_data, validation_data, test_data = load_data()\n",
    "training_data_X, training_data_Y = training_data\n",
    "validation_data_X, validation_data_Y = validation_data\n",
    "test_data_X, test_data_Y = test_data"
   ]
  },
  {
   "cell_type": "code",
   "execution_count": 16,
   "metadata": {},
   "outputs": [
    {
     "name": "stdout",
     "output_type": "stream",
     "text": [
      "Iteration 1, loss = 0.55834895\n",
      "Iteration 2, loss = 0.29303838\n",
      "Iteration 3, loss = 0.24588172\n",
      "Iteration 4, loss = 0.21456999\n",
      "Iteration 5, loss = 0.19179265\n",
      "Iteration 6, loss = 0.17491877\n",
      "Iteration 7, loss = 0.16114736\n",
      "Iteration 8, loss = 0.15012526\n",
      "Iteration 9, loss = 0.14106239\n",
      "Iteration 10, loss = 0.13364181\n",
      "Iteration 11, loss = 0.12683429\n",
      "Iteration 12, loss = 0.12158896\n",
      "Iteration 13, loss = 0.11657694\n",
      "Iteration 14, loss = 0.11265585\n",
      "Iteration 15, loss = 0.10889587\n",
      "Iteration 16, loss = 0.10552340\n",
      "Iteration 17, loss = 0.10235538\n",
      "Iteration 18, loss = 0.09974444\n",
      "Iteration 19, loss = 0.09723668\n",
      "Iteration 20, loss = 0.09499054\n",
      "Iteration 21, loss = 0.09317729\n",
      "Iteration 22, loss = 0.09162768\n",
      "Iteration 23, loss = 0.08980005\n",
      "Iteration 24, loss = 0.08813108\n",
      "Iteration 25, loss = 0.08685727\n",
      "Iteration 26, loss = 0.08529401\n",
      "Iteration 27, loss = 0.08416968\n",
      "Iteration 28, loss = 0.08326777\n",
      "Iteration 29, loss = 0.08200283\n",
      "Iteration 30, loss = 0.08118985\n"
     ]
    },
    {
     "name": "stderr",
     "output_type": "stream",
     "text": [
      "c:\\Users\\bebet\\AppData\\Local\\Programs\\Python\\Python310\\lib\\site-packages\\sklearn\\neural_network\\_multilayer_perceptron.py:702: ConvergenceWarning: Stochastic Optimizer: Maximum iterations (30) reached and the optimization hasn't converged yet.\n",
      "  warnings.warn(\n"
     ]
    }
   ],
   "source": [
    "mlp = MLPClassifier(hidden_layer_sizes=100, activation='logistic', solver='sgd', batch_size=2, verbose=True, max_iter=30,).fit(training_data_X, training_data_Y)"
   ]
  },
  {
   "cell_type": "code",
   "execution_count": 17,
   "metadata": {},
   "outputs": [
    {
     "name": "stdout",
     "output_type": "stream",
     "text": [
      "Training set score: 0.976700\n"
     ]
    }
   ],
   "source": [
    "print(\"Training set score: %f\" % mlp.score(validation_data_X, validation_data_Y))"
   ]
  },
  {
   "cell_type": "code",
   "execution_count": null,
   "metadata": {},
   "outputs": [],
   "source": [
    "mlp2 = MLPClassifier(hidden_layer_sizes=100, activation='logistic', solver='sgd', batch_size=2, verbose=True, max_iter=30,).fit(training_data_X, training_data_Y)"
   ]
  },
  {
   "cell_type": "code",
   "execution_count": null,
   "metadata": {},
   "outputs": [],
   "source": [
    "print(\"Training set score: %f\" % mlp2.score(validation_data_X, validation_data_Y))"
   ]
  }
 ],
 "metadata": {
  "kernelspec": {
   "display_name": "Python 3",
   "language": "python",
   "name": "python3"
  },
  "language_info": {
   "codemirror_mode": {
    "name": "ipython",
    "version": 3
   },
   "file_extension": ".py",
   "mimetype": "text/x-python",
   "name": "python",
   "nbconvert_exporter": "python",
   "pygments_lexer": "ipython3",
   "version": "3.10.7 (tags/v3.10.7:6cc6b13, Sep  5 2022, 14:08:36) [MSC v.1933 64 bit (AMD64)]"
  },
  "orig_nbformat": 4,
  "vscode": {
   "interpreter": {
    "hash": "f9bea8b6b6c7e58f4a2a79df86e3f891fd8805285067626ee34d253b1117ba1c"
   }
  }
 },
 "nbformat": 4,
 "nbformat_minor": 2
}
